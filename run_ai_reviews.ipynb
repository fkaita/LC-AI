{
 "cells": [
  {
   "cell_type": "markdown",
   "metadata": {},
   "source": [
    "## Run AI reviewer for hypothetical examples at IT department\n"
   ]
  },
  {
   "cell_type": "code",
   "execution_count": null,
   "metadata": {},
   "outputs": [
    {
     "name": "stdout",
     "output_type": "stream",
     "text": [
      "Using OpenAI API with model gpt-4o-2024-05-13.\n",
      "Review was completed\n"
     ]
    }
   ],
   "source": [
    "import os\n",
    "from dotenv import load_dotenv\n",
    "load_dotenv()  # Load variables from .env\n",
    "\n",
    "from llm import create_client\n",
    "from review import load_docs, perform_review, provide_feedback\n",
    "import pandas as pd\n",
    "\n",
    "# Create a real client\n",
    "api_key = os.getenv(\"OPENAI_API_KEY\")\n",
    "client, model = create_client(\"gpt-4o-2024-05-13\")\n",
    "\n",
    "app_paths = [\"24-001_backlog\", \"24-002_VMware\", \"24-003_Adobe\"]\n",
    "path = \"docs/application/\"\n",
    "output_path = \"docs/review/\"\n",
    "\n",
    "results = []\n",
    "feedback_results= []\n",
    "for application in app_paths:\n",
    "    print(f\"Review for {application} was started...\")\n",
    "    # Output format\n",
    "    result = {}\n",
    "\n",
    "    # Load application and related document\n",
    "    file_path = path + application\n",
    "    app_docs = load_docs(file_path)\n",
    "\n",
    "    # Call the function\n",
    "    review = perform_review(\n",
    "        text=app_docs,\n",
    "        model=model,\n",
    "        client=client,\n",
    "    )\n",
    "\n",
    "    # Convert the dictionary to a string representation\n",
    "    result[\"review_result\"] = review\n",
    "    table = pd.DataFrame.from_dict(review, orient='index')\n",
    "    review_text = table.to_markdown()\n",
    "\n",
    "    # Call the function\n",
    "    feedback = provide_feedback(\n",
    "        application_text=app_docs,\n",
    "        review_text=review_text,\n",
    "        model=model,\n",
    "        client=client,\n",
    "    )\n",
    "    result[\"feedback_result\"] = feedback\n",
    "\n",
    "    output_file = f\"review_{output_path}{application}.md\"\n",
    "    # Save as a properly formatted Markdown file\n",
    "    with open(output_file, \"w\", encoding=\"utf-8\") as f:\n",
    "        f.write(f\"# Review Result for Application ID: {application}\\n\\n\")\n",
    "        \n",
    "        if sum((table[\"Decision\"] != \"Pass\")) == 0:\n",
    "            f.write(\"✅ **Application was approved.**\\n\\n\")\n",
    "        else:\n",
    "            f.write(\"❌ **Application was rejected.**\\n\\n\")\n",
    "        \n",
    "        f.write(\"## Criteria Review Result\\n\\n\")\n",
    "        f.write(table.to_markdown())\n",
    "        f.write(\"```\\n\\n\")\n",
    "\n",
    "        f.write(\"## Feedback\\n\\n\")\n",
    "        f.write(feedback + \"\\n\")\n",
    "\n",
    "    print(f\"Review for {application} was finished!\")\n",
    "\n",
    "# Print the result\n",
    "print(\"Review was completed\")"
   ]
  }
 ],
 "metadata": {
  "kernelspec": {
   "display_name": "venv",
   "language": "python",
   "name": "python3"
  },
  "language_info": {
   "codemirror_mode": {
    "name": "ipython",
    "version": 3
   },
   "file_extension": ".py",
   "mimetype": "text/x-python",
   "name": "python",
   "nbconvert_exporter": "python",
   "pygments_lexer": "ipython3",
   "version": "3.13.1"
  }
 },
 "nbformat": 4,
 "nbformat_minor": 2
}
