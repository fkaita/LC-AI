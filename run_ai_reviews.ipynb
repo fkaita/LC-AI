{
 "cells": [
  {
   "cell_type": "markdown",
   "metadata": {},
   "source": [
    "## Run AI reviewer for application\n"
   ]
  },
  {
   "cell_type": "code",
   "execution_count": 25,
   "metadata": {},
   "outputs": [
    {
     "name": "stdout",
     "output_type": "stream",
     "text": [
      "Using OpenAI API with model gpt-4o-2024-05-13.\n",
      "Review for 001 was started...\n",
      "Review for 001 was finished!\n",
      "Review for 002 was started...\n",
      "Review for 002 was finished!\n",
      "Review was completed\n"
     ]
    }
   ],
   "source": [
    "import os\n",
    "from dotenv import load_dotenv\n",
    "load_dotenv()  # Load variables from .env\n",
    "\n",
    "from llm import create_client\n",
    "from review import extract_pdf_text, perform_review\n",
    "import pandas as pd\n",
    "\n",
    "# Create a real client\n",
    "api_key = os.getenv(\"OPENAI_API_KEY\")\n",
    "client, model = create_client(\"gpt-4o-2024-05-13\")\n",
    "\n",
    "app_paths = [\"001\", \"002\"]\n",
    "path = \"docs/application/\"\n",
    "output_path = \"docs/review/\"\n",
    "\n",
    "results = []\n",
    "# feedback_results= []\n",
    "for application in app_paths:\n",
    "    print(f\"Review for {application} was started...\")\n",
    "    # Output format\n",
    "    result = {}\n",
    "\n",
    "    # Load application and related document\n",
    "    file_path = path + application\n",
    "    application_text = extract_pdf_text(file_path + \"/application.pdf\")\n",
    "    contract_text = extract_pdf_text(file_path + \"/contract.pdf\")\n",
    "\n",
    "    # Call the function\n",
    "    review = perform_review(\n",
    "        application_text=application_text,\n",
    "        contract_text=contract_text,\n",
    "        model=model,\n",
    "        client=client,\n",
    "    )\n",
    "\n",
    "    # Convert the dictionary to a string representation\n",
    "    result[\"review_result\"] = review\n",
    "    table = pd.DataFrame.from_dict(review['comments'])\n",
    "    review_text = table.to_markdown(index=False)\n",
    "\n",
    "    # # Call the function\n",
    "    # feedback = provide_feedback(\n",
    "    #     application_text=app_docs,\n",
    "    #     review_text=review_text,\n",
    "    #     model=model,\n",
    "    #     client=client,\n",
    "    # )\n",
    "    # result[\"feedback_result\"] = feedback\n",
    "\n",
    "    output_file = f\"{output_path}{application}.md\"\n",
    "    # Save as a properly formatted Markdown file\n",
    "    with open(output_file, \"w\", encoding=\"utf-8\") as f:\n",
    "        f.write(f\"# Review Result for Application: {application}\\n\\n\")\n",
    "        \n",
    "        f.write(\"## Review Result\\n\\n\")\n",
    "        f.write(table.to_markdown())\n",
    "        f.write(\"```\\n\\n\")\n",
    "\n",
    "        # f.write(\"## Feedback\\n\\n\")\n",
    "        # f.write(feedback + \"\\n\")\n",
    "\n",
    "    print(f\"Review for {application} was finished!\")\n",
    "\n",
    "# Print the result\n",
    "print(\"Review was completed\")"
   ]
  },
  {
   "cell_type": "code",
   "execution_count": 22,
   "metadata": {},
   "outputs": [
    {
     "data": {
      "text/html": [
       "<div>\n",
       "<style scoped>\n",
       "    .dataframe tbody tr th:only-of-type {\n",
       "        vertical-align: middle;\n",
       "    }\n",
       "\n",
       "    .dataframe tbody tr th {\n",
       "        vertical-align: top;\n",
       "    }\n",
       "\n",
       "    .dataframe thead th {\n",
       "        text-align: right;\n",
       "    }\n",
       "</style>\n",
       "<table border=\"1\" class=\"dataframe\">\n",
       "  <thead>\n",
       "    <tr style=\"text-align: right;\">\n",
       "      <th></th>\n",
       "      <th>Decision</th>\n",
       "      <th>LC description</th>\n",
       "      <th>Contract description</th>\n",
       "    </tr>\n",
       "  </thead>\n",
       "  <tbody>\n",
       "    <tr>\n",
       "      <th>0</th>\n",
       "      <td>Not Mentioned</td>\n",
       "      <td>Percentage Credit Amount Tolerance: 10%</td>\n",
       "      <td>Not mentioned</td>\n",
       "    </tr>\n",
       "    <tr>\n",
       "      <th>1</th>\n",
       "      <td>Not Mentioned</td>\n",
       "      <td>Confirmation Instructions: Confirm</td>\n",
       "      <td>Not mentioned</td>\n",
       "    </tr>\n",
       "    <tr>\n",
       "      <th>2</th>\n",
       "      <td>Not Mentioned</td>\n",
       "      <td>Confirmation charges to be borne by Applicant</td>\n",
       "      <td>Not mentioned</td>\n",
       "    </tr>\n",
       "    <tr>\n",
       "      <th>3</th>\n",
       "      <td>Contradicts</td>\n",
       "      <td>Latest Shipment Date: 2025/02/28</td>\n",
       "      <td>Shipment Period: As per bill(s) of lading date...</td>\n",
       "    </tr>\n",
       "    <tr>\n",
       "      <th>4</th>\n",
       "      <td>Not Mentioned</td>\n",
       "      <td>Documents must be presented to the Negotiating...</td>\n",
       "      <td>Not mentioned</td>\n",
       "    </tr>\n",
       "    <tr>\n",
       "      <th>5</th>\n",
       "      <td>Not Mentioned</td>\n",
       "      <td>All banking charges outside Japan are for the ...</td>\n",
       "      <td>Not mentioned</td>\n",
       "    </tr>\n",
       "  </tbody>\n",
       "</table>\n",
       "</div>"
      ],
      "text/plain": [
       "        Decision                                     LC description  \\\n",
       "0  Not Mentioned            Percentage Credit Amount Tolerance: 10%   \n",
       "1  Not Mentioned                 Confirmation Instructions: Confirm   \n",
       "2  Not Mentioned      Confirmation charges to be borne by Applicant   \n",
       "3    Contradicts                   Latest Shipment Date: 2025/02/28   \n",
       "4  Not Mentioned  Documents must be presented to the Negotiating...   \n",
       "5  Not Mentioned  All banking charges outside Japan are for the ...   \n",
       "\n",
       "                                Contract description  \n",
       "0                                      Not mentioned  \n",
       "1                                      Not mentioned  \n",
       "2                                      Not mentioned  \n",
       "3  Shipment Period: As per bill(s) of lading date...  \n",
       "4                                      Not mentioned  \n",
       "5                                      Not mentioned  "
      ]
     },
     "execution_count": 22,
     "metadata": {},
     "output_type": "execute_result"
    }
   ],
   "source": [
    "pd.DataFrame.from_dict(review['comments'])"
   ]
  },
  {
   "cell_type": "code",
   "execution_count": 17,
   "metadata": {},
   "outputs": [
    {
     "data": {
      "text/plain": [
       "[{'Decision': 'Not Mentioned',\n",
       "  'LC description': 'Percentage Credit Amount Tolerance: 10%',\n",
       "  'Contract description': 'Not mentioned'},\n",
       " {'Decision': 'Not Mentioned',\n",
       "  'LC description': 'Confirmation Instructions: Confirm',\n",
       "  'Contract description': 'Not mentioned'},\n",
       " {'Decision': 'Not Mentioned',\n",
       "  'LC description': 'Confirmation charges to be borne by Applicant',\n",
       "  'Contract description': 'Not mentioned'},\n",
       " {'Decision': 'Contradicts',\n",
       "  'LC description': 'Latest Shipment Date: 2025/02/28',\n",
       "  'Contract description': 'Shipment Period: As per bill(s) of lading dated or to be dated within January 1st 2025 to February 28th 2025'},\n",
       " {'Decision': 'Not Mentioned',\n",
       "  'LC description': 'Documents must be presented to the Negotiating Bank within 8 days after the date of shipment.',\n",
       "  'Contract description': 'Not mentioned'},\n",
       " {'Decision': 'Not Mentioned',\n",
       "  'LC description': 'All banking charges outside Japan are for the account of Beneficiary.',\n",
       "  'Contract description': 'Not mentioned'}]"
      ]
     },
     "execution_count": 17,
     "metadata": {},
     "output_type": "execute_result"
    }
   ],
   "source": [
    "review['comments']"
   ]
  },
  {
   "cell_type": "code",
   "execution_count": 26,
   "metadata": {},
   "outputs": [],
   "source": [
    "part = \"\"\"2. Applicant & Beneficiary Details\n",
    "●\n",
    "Name & Address of the Applicant:\n",
    "XYZ Imports Ltd., 5678 Shibuya Street, Tokyo 150-0001, Japan\n",
    "●\n",
    "Name & Address of the Beneficiary:\n",
    "ABC Trading Co., 1234 Market Street, Suite 500, New York, NY 10001, USA\n",
    "●\n",
    "Currency & Amount of Credit:\n",
    "○\n",
    "(Figures): USD 1,600,00\n",
    "○\n",
    "(Words): USD one million and six hundred thousand\"\"\""
   ]
  },
  {
   "cell_type": "code",
   "execution_count": 27,
   "metadata": {},
   "outputs": [
    {
     "name": "stdout",
     "output_type": "stream",
     "text": [
      "Upon reviewing both the Letter of Credit (L/C) application and the provided sales contract, I have identified the following discrepancies and considerations:\n",
      "\n",
      "### Discrepancies:\n",
      "1. **Address of the Applicant (Buyer):**\n",
      "   - **L/C Application:** 5678 Shibuya Street, Tokyo 150-0001, Japan\n",
      "   - **Sales Contract:** 5678 Shibuya Street, Tokyo 150-0002, Japan\n",
      "   - **Discrepancy:** The postal code for the address of the applicant differs between the L/C application (150-0001) and the sales contract (150-0002).\n",
      "\n",
      "2. **Currency & Amount of Credit:**\n",
      "   - **L/C Application:**\n",
      "     - (Figures): USD 1,600,00\n",
      "     - (Words): USD one million and six hundred thousand\n",
      "   - **Sales Contract:**\n",
      "     - Total Contract Value: USD 1,600,000\n",
      "   - **Discrepancy:** There is a typographical error in the figures mentioned in the L/C application. It states “USD 1,600,00” instead of “USD 1,600,000”.\n",
      "\n",
      "### Considerations:\n",
      "1. **Names of Applicant and Beneficiary:**\n",
      "   - The names and addresses of both the Applicant (XYZ Imports Ltd.) and the Beneficiary (ABC Trading Co.) otherwise match correctly between the L/C application and the sales contract, aside from the postal code discrepancy noted above.\n",
      "\n",
      "2. **Currency & Amount in Words:**\n",
      "   - The amount in words in the L/C application correctly matches the total contract value as stated in the sales contract.\n",
      "\n",
      "### Recommendations:\n",
      "1. **Correct the Postal Code:**\n",
      "   - Ensure that the postal code for XYZ Imports Ltd. is consistent between the L/C application and the sales contract. Confirm whether the correct postal code is 150-0001 or 150-0002 and update the document accordingly.\n",
      "\n",
      "2. **Correct the Figures in the L/C Application:**\n",
      "   - Amend the figure in the L/C application from “USD 1,600,00” to “USD 1,600,000” to accurately reflect the total contract value and eliminate any potential confusion or rejection of the L/C due to this error.\n",
      "\n",
      "### Conclusion:\n",
      "The discrepancies identified need to be addressed promptly to ensure that the L/C application aligns perfectly with the sales contract. Corrections should be made to the postal code of the applicant and the figure of the credit amount in the L/C application. Once these discrepancies are rectified, the L/C application will be consistent with the provided sales contract.\n"
     ]
    }
   ],
   "source": [
    "from llm import get_response_from_llm\n",
    "\n",
    "it_reviewer_system_prompt = (\n",
    "    \"You are an AI reviewer in the international trading company responsible for evaluating Letter of Credit (L/C) applications. \"\n",
    "    \"Your mission is to assess if all contents described in L/C application are align with the contract. \"\n",
    "    \"Be critical and cautious in your decision-making process. Your evaluations should be structured, concise, and accurate.\"\n",
    ")\n",
    "\n",
    "contract_text = extract_pdf_text(file_path + \"/contract.pdf\")\n",
    "\n",
    "base_prompt = f\"\"\"\n",
    "Below paragraph is from L/C application. Please carefully read the content and advice if any discrepancy exists with given contract.\n",
    "\n",
    "PARAGRAPH FROM L/C APPLICATION:\n",
    "{part}\n",
    "\n",
    "PROVIDED CONTRACT:\n",
    "{contract_text}\n",
    "\"\"\"\n",
    "\n",
    "\n",
    "llm_review, msg_history = get_response_from_llm(\n",
    "    base_prompt,\n",
    "    model=model,\n",
    "    client=client,\n",
    "    system_message=it_reviewer_system_prompt,\n",
    "    print_debug=False,\n",
    ")\n",
    "\n",
    "print(llm_review)"
   ]
  },
  {
   "cell_type": "markdown",
   "metadata": {},
   "source": [
    "## Simple Comparison\n"
   ]
  },
  {
   "cell_type": "code",
   "execution_count": 40,
   "metadata": {},
   "outputs": [
    {
     "name": "stdout",
     "output_type": "stream",
     "text": [
      "**Identified Discrepancies:**\n",
      "\n",
      "1. **Applicant Address:**\n",
      "   - L/C Application: 5678 Shibuya Street, Tokyo 150-0001, Japan\n",
      "   - Contract: 5678 Shibuya Street, Tokyo 150-0002, Japan\n",
      "\n",
      "2. **Quality of Soybeans:**\n",
      "   - L/C Application: USDA No.2 Standard\n",
      "   - Contract: USDA No.1 Standard\n",
      "\n",
      "3. **Price Terms:**\n",
      "   - L/C Application: CFR\n",
      "   - Contract: CIF (Cost, Insurance, and Freight)\n",
      "\n",
      "4. **Insurance Policy Coverage:**\n",
      "   - L/C Application: Full Invoice Value + 5%\n",
      "   - Contract: Full Invoice Value + 10%\n",
      "\n",
      "No other discrepancies were noted between the L/C application and the contract.\n"
     ]
    }
   ],
   "source": [
    "contract_text = extract_pdf_text(file_path + \"/contract.pdf\")\n",
    "application_text = extract_pdf_text(file_path + \"/application.pdf\")\n",
    "\n",
    "base_prompt = f\"\"\"\n",
    "Below is a L/C application. Please carefully read the content and advice if any discrepancy exists with given contract.\n",
    "Please only provide identified discrepancy in your response.\n",
    "If you do not find any discrepancy, just mention no discrepancy.\n",
    "\n",
    "L/C APPLICATION:\n",
    "{application_text}\n",
    "\n",
    "PROVIDED CONTRACT:\n",
    "{contract_text}\n",
    "\"\"\"\n",
    "\n",
    "llm_review, msg_history = get_response_from_llm(\n",
    "    base_prompt,\n",
    "    model=model,\n",
    "    client=client,\n",
    "    system_message=it_reviewer_system_prompt,\n",
    "    print_debug=False,\n",
    ")\n",
    "\n",
    "print(llm_review)"
   ]
  },
  {
   "cell_type": "code",
   "execution_count": 28,
   "metadata": {},
   "outputs": [
    {
     "data": {
      "text/plain": [
       "'docs/application/002'"
      ]
     },
     "execution_count": 28,
     "metadata": {},
     "output_type": "execute_result"
    }
   ],
   "source": [
    "file_path"
   ]
  },
  {
   "cell_type": "markdown",
   "metadata": {},
   "source": [
    "## Break down and comparison\n"
   ]
  },
  {
   "cell_type": "code",
   "execution_count": 41,
   "metadata": {},
   "outputs": [
    {
     "name": "stdout",
     "output_type": "stream",
     "text": [
      "{'output': ['APPLICATION FOR IRREVOCABLE DOCUMENTARY LETTER OF CREDIT \\nDate: January 5th 2025 \\nTo:\\u200b\\n The MUFG Bank, Ltd. \\nDear Sirs, \\nPursuant to the General Undertaking for Letters of Credit dated January 15th 2020, we \\nhereby request you to issue an Irrevocable Documentary Letter of Credit in accordance with \\nthe instructions marked below. \\nWe are authorized to debit our account No. 12345678 towards charges for this transaction.', '1. Credit Details \\n●\\u200b Type of LC: Not Transferable \\n●\\u200b L/C No. (For Bank Use): [Insert L/C Number] \\n●\\u200b Date of Issue (For Bank Use): [Insert Date] \\n●\\u200b UCP/URR Latest Version: UCP 600 & URR 725 \\n●\\u200b Date of Expiry: 2025/02/28 \\n●\\u200b Place of Expiry: Tokyo, Japan', '2. Applicant & Beneficiary Details \\n●\\u200b Name & Address of the Applicant:\\u200b\\n XYZ Imports Ltd., 5678 Shibuya Street, Tokyo 150-0001, Japan\\u200b\\n\\n●\\u200b Name & Address of the Beneficiary:\\u200b\\nABC Trading Co., 1234 Market Street, Suite 500, New York, NY 10001, USA\\u200b\\n\\n●\\u200b Currency & Amount of Credit:\\u200b\\n\\n○\\u200b (Figures): USD 1,600,00 \\n○\\u200b (Words): USD one million and six hundred thousand', '3. Availability of Credit \\n●\\u200b Credit Available with: By Negotiation \\n●\\u200b Against Presentation of Documents Stipulated Herein \\n●\\u200b Percentage Credit Amount Tolerance: 5 %', '4. Shipment & Delivery Terms \\n●\\u200b Partial Shipments: Permitted \\n●\\u200b Shipment From: Any ports in the US \\n●\\u200b Shipment To: Tokyo, Japan \\n●\\u200b Latest Shipment Date: 2025/02/28', '5. Description of Goods \\n●\\u200b Description: 2,000 Metric Tons (MT) with more or less 10% of Non-GMO soybeans \\nwith USDA No.2 Standard \\n●\\u200b Price Terms: CFR \\n●\\u200b Place: Tokyo, Japan', '6. Required Documents \\n●\\u200b Commercial Invoice: 3 Originals & 3 Copies, indicating LC Number \\n●\\u200b Packing List: 3 Originals & 3 Copies \\n●\\u200b Bill of Lading (B/L): 3 Originals & 3 Copies, marked “Freight Prepaid” \\n●\\u200b Certificate of Origin: 3 Originals & 3 Copies issued by the Chamber of Commerce \\nin the USA \\n●\\u200b Phytosanitary Certificate: 1 Originals & 2 Copies issued by the USDA \\n●\\u200b GAFTA-approved Quality and Weight Certificate: 1 Originals & 2 Copies \\n●\\u200b Insurance Policy: Full Invoice Value + 5%, covering Institute Cargo Clauses (A), \\nWar Clauses, and SRCC Clauses in 1 Originals & 2 Copies', '7. Special Instructions \\n●\\u200b Documents must be presented to the Negotiating Bank within 8 days after the date of \\nshipment. \\n●\\u200b All banking charges outside Japan are for the account of Beneficiary. \\n●\\u200b Confirmation Instructions: Confirm \\n●\\u200b Confirmation charges to be borne by Applicant  \\n●\\u200b Reimbursement by SWIFT is Acceptable \\n●\\u200b Advising Bank’s Name & Address: BANK OF AMERICA, 150 Broadway New York, \\nNY 10038', '8. Regulatory & Compliance Declarations \\n●\\u200b This Documentary Credit is subject to Uniform Customs and Practice for \\nDocumentary Credits 2007 Revision, International Chamber of Commerce (ICC) \\nPublication No. 600 & Uniform Rules for Bank-to-Bank Reimbursements under \\nDocumentary Credits, ICC Publication No. 725. \\n●\\u200b This Documentary Credit shall comply with Incoterms 2010. \\n●\\u200b The Applicant certifies that the goods covered in this transaction are freely importable \\nand comply with all applicable trade regulations. \\n●\\u200b The transaction does not involve any prohibited entities or sanctioned parties as per \\nUN, EU, USA, Japan, or other applicable authorities. \\n●\\u200b The Applicant assumes all risks associated with the issuance of this Letter of Credit \\nand agrees to indemnify the issuing bank against any losses arising from regulatory \\nnon-compliance.', 'Authorized Signatory:\\u200b\\nTaro Iwashi\\u200b\\nManager of Food Department\\u200b\\nXYZ Imports Ltd. \\n2025/01/05']}\n"
     ]
    }
   ],
   "source": [
    "import re\n",
    "import json\n",
    "\n",
    "base_prompt = \"\"\"\n",
    "Please split following document into multiple parts by content.\n",
    "*Please just split the original text without changing any words even if original text contains typo or mistake.\n",
    "*Please split without overlapping\n",
    "*Please provide output in JSON.\n",
    "\n",
    "Args: \n",
    "    application text (str): A texts from document \n",
    "\n",
    "Returns:\n",
    "    dict: A list of splitted text.\n",
    "\n",
    "    output format should be as below:\n",
    "    * Please only provide JSON output as string starting from { and ending with }\n",
    "\n",
    "    {\n",
    "        \"output\": [\"list of splitted texts\", \"list of splitted texts\", \"list of splitted texts\"...]\n",
    "        ...\n",
    "    }\n",
    "\n",
    "\"\"\"\n",
    "\n",
    "application_text = extract_pdf_text(file_path + \"/application.pdf\")\n",
    "base_prompt += f\"Document: {application_text}\"\n",
    "\n",
    "llm_review, msg_history = get_response_from_llm(\n",
    "    base_prompt,\n",
    "    model=model,\n",
    "    client=client,\n",
    "    system_message=it_reviewer_system_prompt,\n",
    "    print_debug=False,\n",
    ")\n",
    "\n",
    "try:\n",
    "    json_match = re.search(r\"{.*}\", llm_review, re.DOTALL)\n",
    "    if json_match:\n",
    "        cleaned_review = json_match.group(0)\n",
    "        review = json.loads(cleaned_review)\n",
    "    else:\n",
    "        raise ValueError(\"No JSON found in response\")\n",
    "except json.JSONDecodeError as e:\n",
    "    print(f\"JSON decoding failed: {e}\")\n",
    "    print(f\"LLM response: {llm_review}\")\n",
    "    review = None\n",
    "\n",
    "print(review)"
   ]
  },
  {
   "cell_type": "code",
   "execution_count": 42,
   "metadata": {},
   "outputs": [
    {
     "name": "stdout",
     "output_type": "stream",
     "text": [
      "### Identified Discrepancy:\n",
      "\n",
      "- **Account Number for Debit**: The L/C application mentions debiting account No. 12345678, while the provided contract specifies the designated bank account number for payments as 123456789. There is a discrepancy in the account number for transactions.\n",
      "\n",
      "No other discrepancies are identified between the L/C application and the provided contract.Discrepancy identified:\n",
      "\n",
      "- The Date of Issue field in the L/C application is marked as \"[Insert Date]\" for bank use. According to the contract, the L/C needs to be issued in a specific timeframe to match the shipment and delivery schedule. The contract specifies a shipment period of January 1st, 2025 to February 28th, 2025, so the L/C should ideally be issued before this period to ensure proper coordination. The issuance date should be clarified and specified in the L/C application to avoid any misalignment with the contract's shipment period.1. **Address of the Buyer (XYZ Imports Ltd.)**:\n",
      "   - **L/C Application**: 5678 Shibuya Street, Tokyo 150-0001, Japan\n",
      "   - **Contract**: 5678 Shibuya Street, Tokyo 150-0002, Japan\n",
      "\n",
      "2. **Currency & Amount of Credit (Figures)**:\n",
      "   - **L/C Application**: USD 1,600,00 \n",
      "   - **Contract**: USD 1,600,000 (missing one zero in the L/C application)\n",
      "\n",
      "No other discrepancies noted.Identified discrepancy:\n",
      "\n",
      "- **Percentage Credit Amount Tolerance**: The L/C application specifies a 5% tolerance on the credit amount, whereas the Sales Contract permits a quantity tolerance of 10%. This implies that the credit amount should also reflect the 10% tolerance on quantity as per the contract terms.Latest Shipment Date: The L/C application specifies the Latest Shipment Date as \"2025/02/28,\" while the contract states the shipment period is from January 1, 2025, to February 28, 2025. To align with the contract, the L/C application should explicitly mention that the shipment period is within January 1, 2025, to February 28, 2025, not just the latest shipment date.\n",
      "Discrepancies identified:\n",
      "\n",
      "1. **Quality Standard**: \n",
      "   - L/C Application: USDA No.2 Standard\n",
      "   - Contract: USDA No.1 Standard\n",
      "\n",
      "2. **Price Terms**: \n",
      "   - L/C Application: CFR\n",
      "   - Contract: CIFDiscrepancy identified: \n",
      "\n",
      "1. **Insurance Policy**: The L/C application states \"Full Invoice Value + 5%\" whereas the contract specifies \"full Invoice Value + 10%\".Discrepancy identified:\n",
      "\n",
      "- In the L/C application, it is stated that \"Confirmation charges to be borne by Applicant.\" This is not mentioned or agreed upon in the provided contract. The contract does not specify which party will bear the confirmation charges.Discrepancy identified:\n",
      "- The L/C application declares compliance with \"Incoterms 2010,\" whereas the contract specifies \"CIF Tokyo as per GAFTA Contract No. 1 Terms.\" The governing terms in the contract do not mention Incoterms 2010 and instead reference GAFTA terms.No discrepancy.\n"
     ]
    }
   ],
   "source": [
    "contract_text = extract_pdf_text(file_path + \"/contract.pdf\")\n",
    "result = \"\"\n",
    "for text in review[\"output\"]:\n",
    "    base_prompt = f\"\"\"\n",
    "    Below paragraph is extracted from a L/C application. Please carefully read the content and advice if any discrepancy exists with given contract.\n",
    "    Please only provide identified discrepancy in your response.\n",
    "    If you do not find any discrepancy, just mention no discrepancy.\n",
    "\n",
    "    EXTRACTED PARAGRAPH FROM L/C APPLICATION:\n",
    "    {text}\n",
    "\n",
    "    PROVIDED CONTRACT:\n",
    "    {contract_text}\n",
    "    \"\"\"\n",
    "\n",
    "    llm_review, msg_history = get_response_from_llm(\n",
    "        base_prompt,\n",
    "        model=model,\n",
    "        client=client,\n",
    "        system_message=it_reviewer_system_prompt,\n",
    "        print_debug=False,\n",
    "    )\n",
    "\n",
    "    result += llm_review\n",
    "\n",
    "print(result)\n",
    "    "
   ]
  },
  {
   "cell_type": "code",
   "execution_count": null,
   "metadata": {},
   "outputs": [],
   "source": []
  }
 ],
 "metadata": {
  "kernelspec": {
   "display_name": "sakana",
   "language": "python",
   "name": "python3"
  },
  "language_info": {
   "codemirror_mode": {
    "name": "ipython",
    "version": 3
   },
   "file_extension": ".py",
   "mimetype": "text/x-python",
   "name": "python",
   "nbconvert_exporter": "python",
   "pygments_lexer": "ipython3",
   "version": "3.13.1"
  }
 },
 "nbformat": 4,
 "nbformat_minor": 2
}
